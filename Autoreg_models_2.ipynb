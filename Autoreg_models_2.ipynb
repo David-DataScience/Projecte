{
 "cells": [
  {
   "cell_type": "code",
   "execution_count": 32,
   "id": "a4e9db9a",
   "metadata": {},
   "outputs": [],
   "source": [
    "import pandas as pd\n",
    "import matplotlib.pyplot as plt \n",
    "import numpy as np\n",
    "from datetime import datetime\n",
    "import seaborn as sns\n",
    "from sklearn.preprocessing import StandardScaler\n",
    "from sklearn.preprocessing import MinMaxScaler"
   ]
  },
  {
   "cell_type": "code",
   "execution_count": 82,
   "id": "af39909e",
   "metadata": {},
   "outputs": [],
   "source": [
    "from sklearn.preprocessing import PolynomialFeatures\n",
    "from sklearn.linear_model import LinearRegression, HuberRegressor\n",
    "from sklearn.linear_model import Lasso, MultiTaskLasso \n",
    "from sklearn.ensemble import RandomForestRegressor\n",
    "from sklearn.metrics import mean_squared_error, mean_absolute_error, mean_squared_log_error\n",
    "from sklearn.metrics import r2_score\n",
    "from sklearn.preprocessing import StandardScaler\n",
    "from sklearn.pipeline import make_pipeline\n",
    "from sklearn.pipeline import Pipeline\n",
    "from sklearn.linear_model import QuantileRegressor, PassiveAggressiveRegressor "
   ]
  },
  {
   "cell_type": "code",
   "execution_count": 34,
   "id": "0fe54982",
   "metadata": {},
   "outputs": [],
   "source": [
    "from skforecast.ForecasterAutoreg import ForecasterAutoreg\n",
    "from skforecast.ForecasterAutoregCustom import ForecasterAutoregCustom\n",
    "from skforecast.ForecasterAutoregDirect import ForecasterAutoregDirect\n",
    "from skforecast.model_selection import grid_search_forecaster\n",
    "from skforecast.model_selection import backtesting_forecaster\n",
    "from skforecast.utils import save_forecaster\n",
    "from skforecast.utils import load_forecaster"
   ]
  },
  {
   "cell_type": "code",
   "execution_count": 35,
   "id": "1e9d57e9",
   "metadata": {},
   "outputs": [],
   "source": [
    "from sklearn.linear_model import Ridge\n",
    "from sklearn.ensemble import GradientBoostingRegressor\n",
    "from sklearn.gaussian_process import GaussianProcessRegressor\n",
    "from sklearn.svm import LinearSVR\n",
    "from sklearn.kernel_ridge import KernelRidge"
   ]
  },
  {
   "cell_type": "code",
   "execution_count": 36,
   "id": "34a11af4",
   "metadata": {},
   "outputs": [],
   "source": [
    "from xgboost import XGBRegressor\n",
    "from catboost import CatBoostRegressor"
   ]
  },
  {
   "cell_type": "code",
   "execution_count": 37,
   "id": "a9f441eb",
   "metadata": {},
   "outputs": [],
   "source": [
    "from sklearn.neural_network import MLPRegressor"
   ]
  },
  {
   "cell_type": "code",
   "execution_count": 38,
   "id": "2476c9ce",
   "metadata": {},
   "outputs": [],
   "source": [
    "from sklearn.isotonic import IsotonicRegression"
   ]
  },
  {
   "cell_type": "code",
   "execution_count": 884,
   "id": "395cd29a",
   "metadata": {},
   "outputs": [],
   "source": [
    "pd.options.display.max_rows = None"
   ]
  },
  {
   "cell_type": "markdown",
   "id": "d4d0ed33",
   "metadata": {},
   "source": [
    "Obrim el dataframe que vam crear en el preprocessat de dades."
   ]
  },
  {
   "cell_type": "code",
   "execution_count": 39,
   "id": "2a6d64db",
   "metadata": {},
   "outputs": [
    {
     "data": {
      "text/html": [
       "<div>\n",
       "<style scoped>\n",
       "    .dataframe tbody tr th:only-of-type {\n",
       "        vertical-align: middle;\n",
       "    }\n",
       "\n",
       "    .dataframe tbody tr th {\n",
       "        vertical-align: top;\n",
       "    }\n",
       "\n",
       "    .dataframe thead th {\n",
       "        text-align: right;\n",
       "    }\n",
       "</style>\n",
       "<table border=\"1\" class=\"dataframe\">\n",
       "  <thead>\n",
       "    <tr style=\"text-align: right;\">\n",
       "      <th></th>\n",
       "      <th>Unnamed: 0</th>\n",
       "      <th>Nivell absolut (msnm)</th>\n",
       "      <th>Percentatge volum embassat (%)</th>\n",
       "      <th>Volum embassat (hm3)</th>\n",
       "      <th>PPT</th>\n",
       "    </tr>\n",
       "  </thead>\n",
       "  <tbody>\n",
       "    <tr>\n",
       "      <th>0</th>\n",
       "      <td>2000-01-01</td>\n",
       "      <td>147.27</td>\n",
       "      <td>50.8</td>\n",
       "      <td>31.02</td>\n",
       "      <td>0.0</td>\n",
       "    </tr>\n",
       "    <tr>\n",
       "      <th>1</th>\n",
       "      <td>2000-01-02</td>\n",
       "      <td>147.27</td>\n",
       "      <td>50.8</td>\n",
       "      <td>31.02</td>\n",
       "      <td>0.0</td>\n",
       "    </tr>\n",
       "    <tr>\n",
       "      <th>2</th>\n",
       "      <td>2000-01-03</td>\n",
       "      <td>147.27</td>\n",
       "      <td>50.8</td>\n",
       "      <td>31.02</td>\n",
       "      <td>0.0</td>\n",
       "    </tr>\n",
       "    <tr>\n",
       "      <th>3</th>\n",
       "      <td>2000-01-04</td>\n",
       "      <td>147.27</td>\n",
       "      <td>50.8</td>\n",
       "      <td>31.02</td>\n",
       "      <td>0.0</td>\n",
       "    </tr>\n",
       "    <tr>\n",
       "      <th>4</th>\n",
       "      <td>2000-01-05</td>\n",
       "      <td>147.28</td>\n",
       "      <td>50.8</td>\n",
       "      <td>31.04</td>\n",
       "      <td>0.0</td>\n",
       "    </tr>\n",
       "  </tbody>\n",
       "</table>\n",
       "</div>"
      ],
      "text/plain": [
       "   Unnamed: 0  Nivell absolut (msnm)  Percentatge volum embassat (%)  \\\n",
       "0  2000-01-01                 147.27                            50.8   \n",
       "1  2000-01-02                 147.27                            50.8   \n",
       "2  2000-01-03                 147.27                            50.8   \n",
       "3  2000-01-04                 147.27                            50.8   \n",
       "4  2000-01-05                 147.28                            50.8   \n",
       "\n",
       "   Volum embassat (hm3)  PPT  \n",
       "0                 31.02  0.0  \n",
       "1                 31.02  0.0  \n",
       "2                 31.02  0.0  \n",
       "3                 31.02  0.0  \n",
       "4                 31.04  0.0  "
      ]
     },
     "execution_count": 39,
     "metadata": {},
     "output_type": "execute_result"
    }
   ],
   "source": [
    "datos = pd.read_csv('db_df.csv')\n",
    "datos.head()"
   ]
  },
  {
   "cell_type": "markdown",
   "id": "d9685a1d",
   "metadata": {},
   "source": [
    "Com que només farem servir finalment el nivell absolut en els nostres models, esborrarem la resta de les columnes."
   ]
  },
  {
   "cell_type": "code",
   "execution_count": 40,
   "id": "ee3eb4fa",
   "metadata": {},
   "outputs": [],
   "source": [
    "datos.drop(['Percentatge volum embassat (%)'], axis = 'columns', inplace=True)\n",
    "datos.drop(['Volum embassat (hm3)'], axis = 'columns', inplace=True)\n",
    "datos.drop(['PPT'], axis = 'columns', inplace=True)"
   ]
  },
  {
   "cell_type": "code",
   "execution_count": 41,
   "id": "baecb062",
   "metadata": {},
   "outputs": [
    {
     "data": {
      "text/html": [
       "<div>\n",
       "<style scoped>\n",
       "    .dataframe tbody tr th:only-of-type {\n",
       "        vertical-align: middle;\n",
       "    }\n",
       "\n",
       "    .dataframe tbody tr th {\n",
       "        vertical-align: top;\n",
       "    }\n",
       "\n",
       "    .dataframe thead th {\n",
       "        text-align: right;\n",
       "    }\n",
       "</style>\n",
       "<table border=\"1\" class=\"dataframe\">\n",
       "  <thead>\n",
       "    <tr style=\"text-align: right;\">\n",
       "      <th></th>\n",
       "      <th>Unnamed: 0</th>\n",
       "      <th>Nivell absolut (msnm)</th>\n",
       "    </tr>\n",
       "  </thead>\n",
       "  <tbody>\n",
       "    <tr>\n",
       "      <th>0</th>\n",
       "      <td>2000-01-01</td>\n",
       "      <td>147.27</td>\n",
       "    </tr>\n",
       "    <tr>\n",
       "      <th>1</th>\n",
       "      <td>2000-01-02</td>\n",
       "      <td>147.27</td>\n",
       "    </tr>\n",
       "    <tr>\n",
       "      <th>2</th>\n",
       "      <td>2000-01-03</td>\n",
       "      <td>147.27</td>\n",
       "    </tr>\n",
       "    <tr>\n",
       "      <th>3</th>\n",
       "      <td>2000-01-04</td>\n",
       "      <td>147.27</td>\n",
       "    </tr>\n",
       "    <tr>\n",
       "      <th>4</th>\n",
       "      <td>2000-01-05</td>\n",
       "      <td>147.28</td>\n",
       "    </tr>\n",
       "  </tbody>\n",
       "</table>\n",
       "</div>"
      ],
      "text/plain": [
       "   Unnamed: 0  Nivell absolut (msnm)\n",
       "0  2000-01-01                 147.27\n",
       "1  2000-01-02                 147.27\n",
       "2  2000-01-03                 147.27\n",
       "3  2000-01-04                 147.27\n",
       "4  2000-01-05                 147.28"
      ]
     },
     "execution_count": 41,
     "metadata": {},
     "output_type": "execute_result"
    }
   ],
   "source": [
    "datos.head()"
   ]
  },
  {
   "cell_type": "markdown",
   "id": "818fe181-29cf-4bcc-a8f1-91cdcf6cad11",
   "metadata": {},
   "source": [
    "Com que les dates no s'han guardat al csv com a index si no com a columna, amb nom Unnamed: 0, haurem de transformar-la a format datetime per després fer-la servir com a index. finalment establim una freqüencia diaria del dataframe i esborrem la columna Unnamed: 0."
   ]
  },
  {
   "cell_type": "code",
   "execution_count": 42,
   "id": "f4c74531",
   "metadata": {},
   "outputs": [],
   "source": [
    "datos['Dia'] = pd.to_datetime(datos['Unnamed: 0'], format='%Y/%m/%d')\n",
    "datos = datos.set_index('Dia')\n",
    "datos = datos.asfreq('D')\n",
    "datos = datos.sort_index()\n",
    "datos.drop(['Unnamed: 0'], axis = 'columns', inplace=True)"
   ]
  },
  {
   "cell_type": "code",
   "execution_count": 43,
   "id": "3b782aeb",
   "metadata": {},
   "outputs": [
    {
     "data": {
      "text/html": [
       "<div>\n",
       "<style scoped>\n",
       "    .dataframe tbody tr th:only-of-type {\n",
       "        vertical-align: middle;\n",
       "    }\n",
       "\n",
       "    .dataframe tbody tr th {\n",
       "        vertical-align: top;\n",
       "    }\n",
       "\n",
       "    .dataframe thead th {\n",
       "        text-align: right;\n",
       "    }\n",
       "</style>\n",
       "<table border=\"1\" class=\"dataframe\">\n",
       "  <thead>\n",
       "    <tr style=\"text-align: right;\">\n",
       "      <th></th>\n",
       "      <th>Nivell absolut (msnm)</th>\n",
       "    </tr>\n",
       "    <tr>\n",
       "      <th>Dia</th>\n",
       "      <th></th>\n",
       "    </tr>\n",
       "  </thead>\n",
       "  <tbody>\n",
       "    <tr>\n",
       "      <th>2000-01-01</th>\n",
       "      <td>147.27</td>\n",
       "    </tr>\n",
       "    <tr>\n",
       "      <th>2000-01-02</th>\n",
       "      <td>147.27</td>\n",
       "    </tr>\n",
       "    <tr>\n",
       "      <th>2000-01-03</th>\n",
       "      <td>147.27</td>\n",
       "    </tr>\n",
       "    <tr>\n",
       "      <th>2000-01-04</th>\n",
       "      <td>147.27</td>\n",
       "    </tr>\n",
       "    <tr>\n",
       "      <th>2000-01-05</th>\n",
       "      <td>147.28</td>\n",
       "    </tr>\n",
       "  </tbody>\n",
       "</table>\n",
       "</div>"
      ],
      "text/plain": [
       "            Nivell absolut (msnm)\n",
       "Dia                              \n",
       "2000-01-01                 147.27\n",
       "2000-01-02                 147.27\n",
       "2000-01-03                 147.27\n",
       "2000-01-04                 147.27\n",
       "2000-01-05                 147.28"
      ]
     },
     "execution_count": 43,
     "metadata": {},
     "output_type": "execute_result"
    }
   ],
   "source": [
    "datos.head()"
   ]
  },
  {
   "cell_type": "markdown",
   "id": "a7f75d25-fca5-488e-968f-f7a8a36e9fb5",
   "metadata": {},
   "source": [
    "Farem servir només les dades fins a l'1 de gener del 2022,  per tenir una serie histórica amb anys sencers, que ens pot ajudar a l'hora de fer el model."
   ]
  },
  {
   "cell_type": "code",
   "execution_count": 891,
   "id": "2cb66db2",
   "metadata": {},
   "outputs": [],
   "source": [
    "datos = datos.loc['2000-01-01':'2022-01-01']"
   ]
  },
  {
   "cell_type": "markdown",
   "id": "dfb8c4dd-09bb-489f-a899-d0f79183d1b4",
   "metadata": {},
   "source": [
    "Comprovem que el número de registres i el tipus de dades sigui el correcte."
   ]
  },
  {
   "cell_type": "code",
   "execution_count": 49,
   "id": "1c06a23a",
   "metadata": {},
   "outputs": [
    {
     "name": "stdout",
     "output_type": "stream",
     "text": [
      "<class 'pandas.core.frame.DataFrame'>\n",
      "DatetimeIndex: 8383 entries, 2000-01-01 to 2022-12-13\n",
      "Freq: D\n",
      "Data columns (total 1 columns):\n",
      " #   Column                 Non-Null Count  Dtype  \n",
      "---  ------                 --------------  -----  \n",
      " 0   Nivell absolut (msnm)  8383 non-null   float64\n",
      "dtypes: float64(1)\n",
      "memory usage: 131.0 KB\n"
     ]
    }
   ],
   "source": [
    "datos.info()"
   ]
  },
  {
   "cell_type": "markdown",
   "id": "b482de8c",
   "metadata": {},
   "source": [
    "A continuació separarem les dades en un conjunt d'entrenament i de test. \n",
    "Per al conjunt de test farem servir 365 observacions, o sigui un any, i la resta per l'entrenament."
   ]
  },
  {
   "cell_type": "code",
   "execution_count": 50,
   "id": "2b74de68",
   "metadata": {},
   "outputs": [
    {
     "name": "stdout",
     "output_type": "stream",
     "text": [
      "Fechas train : 2000-01-01 00:00:00 --- 2021-12-13 00:00:00  (n=8018)\n",
      "Fechas test  : 2021-12-14 00:00:00 --- 2022-12-13 00:00:00  (n=365)\n"
     ]
    },
    {
     "data": {
      "text/plain": [
       "<matplotlib.legend.Legend at 0x10ca31f40>"
      ]
     },
     "execution_count": 50,
     "metadata": {},
     "output_type": "execute_result"
    },
    {
     "data": {
      "image/png": "[encoded data removed]",
      "text/plain": [
       "<Figure size 900x400 with 1 Axes>"
      ]
     },
     "metadata": {},
     "output_type": "display_data"
    }
   ],
   "source": [
    "# Separació dades train-test\n",
    "# ==============================================================================\n",
    "\n",
    "steps = 365\n",
    "datos_train = datos[:-steps]\n",
    "datos_test  = datos[-steps:]\n",
    "\n",
    "print(f\"Fechas train : {datos_train.index.min()} --- {datos_train.index.max()}  (n={len(datos_train)})\")\n",
    "print(f\"Fechas test  : {datos_test.index.min()} --- {datos_test.index.max()}  (n={len(datos_test)})\")\n",
    "\n",
    "# gràfica del train i test\n",
    "# ==============================================================================\n",
    "fig, ax = plt.subplots(figsize=(9, 4))\n",
    "datos_train['Nivell absolut (msnm)'].plot(ax=ax, label='train')\n",
    "datos_test['Nivell absolut (msnm)'].plot(ax=ax, label='test')\n",
    "ax.legend()"
   ]
  },
  {
   "cell_type": "markdown",
   "id": "00bb95ee",
   "metadata": {},
   "source": [
    "A continuació farem servir la funció ForecasterAutoreg de la llibreria skforecast, que ens permet fer servir un model regressiu qualsevol, dintre de tots aquells que es poden fer servir amb la llibreria scikit-learn, per fer un model autoregressiu, amb els lags que nosaltres escollim. \n",
    "Com a aclaració, els lags son les observacions anteriors a les dades que volem predir."
   ]
  },
  {
   "cell_type": "markdown",
   "id": "e50447c2",
   "metadata": {},
   "source": [
    "## LinearRegression"
   ]
  },
  {
   "cell_type": "markdown",
   "id": "ae837ce8",
   "metadata": {},
   "source": [
    "Començarem per un dels models de regressió més senzills però no per això pitjors, encara que té pocs paràmetres per poder millorar la seva performance."
   ]
  },
  {
   "cell_type": "code",
   "execution_count": 75,
   "id": "8db4529f",
   "metadata": {},
   "outputs": [
    {
     "data": {
      "text/plain": [
       "================= \n",
       "ForecasterAutoreg \n",
       "================= \n",
       "Regressor: LinearRegression() \n",
       "Lags: [   1    2    3 ... 6178 6179 6180] \n",
       "Transformer for y: None \n",
       "Transformer for exog: None \n",
       "Window size: 6180 \n",
       "Weight function included: False \n",
       "Exogenous included: False \n",
       "Type of exogenous variable: None \n",
       "Exogenous variables names: None \n",
       "Training range: [Timestamp('2000-01-01 00:00:00'), Timestamp('2021-01-01 00:00:00')] \n",
       "Training index type: DatetimeIndex \n",
       "Training index frequency: D \n",
       "Regressor parameters: {'copy_X': True, 'fit_intercept': True, 'n_jobs': None, 'normalize': 'deprecated', 'positive': False} \n",
       "Creation date: 2023-01-18 23:05:53 \n",
       "Last fit date: 2023-01-18 23:05:56 \n",
       "Skforecast version: 0.6.0 \n",
       "Python version: 3.9.13 "
      ]
     },
     "execution_count": 75,
     "metadata": {},
     "output_type": "execute_result"
    }
   ],
   "source": [
    "# Crear forecaster\n",
    "# ==============================================================================\n",
    "forecaster_lr = ForecasterAutoreg(\n",
    "                regressor = LinearRegression(),\n",
    "                lags = 6180\n",
    "             )\n",
    "\n",
    "forecaster_lr.fit(y=datos_train['Nivell absolut (msnm)'])\n",
    "forecaster_lr"
   ]
  },
  {
   "cell_type": "markdown",
   "id": "f97fcf49",
   "metadata": {},
   "source": [
    "Fem les prediccions per un any, que coincidiran amb l'any del conjunt de test, i així veurem com s'ajusta la predicció del nostre model a la realitat."
   ]
  },
  {
   "cell_type": "code",
   "execution_count": 1220,
   "id": "5fa3f4b6",
   "metadata": {},
   "outputs": [],
   "source": [
    "# Prediccions\n",
    "# ==============================================================================\n",
    "steps = 365\n",
    "predicciones_lr = forecaster_lr.predict(steps=steps)"
   ]
  },
  {
   "cell_type": "markdown",
   "id": "f4290f7f",
   "metadata": {},
   "source": [
    "Ara compararem els valors del conjunt de test amb les prediccions del nostre model i n'extreurem les metriques Mean Squared Error i R2 Score, que ens ajudaran a mesurar com de bé o de malament prediu el nostre model."
   ]
  },
  {
   "cell_type": "code",
   "execution_count": 87,
   "id": "3d35d9a5",
   "metadata": {},
   "outputs": [
    {
     "name": "stdout",
     "output_type": "stream",
     "text": [
      "Error de test (mae): 1.6204177398487152\n",
      "Error de test (mse): 5.354497401829725\n",
      "R2 Score: 0.7377377856247607\n"
     ]
    }
   ],
   "source": [
    "# Metriques\n",
    "# ==============================================================================\n",
    "error_mse_lr = mean_squared_error(\n",
    "                y_true = datos_test['Nivell absolut (msnm)'],\n",
    "                y_pred = predicciones_lr\n",
    "            )\n",
    "error_mae_lr = mean_absolute_error(\n",
    "                y_true = datos_test['Nivell absolut (msnm)'],\n",
    "                y_pred = predicciones_lr\n",
    "            )\n",
    "score_lr = r2_score(\n",
    "                y_true = datos_test['Nivell absolut (msnm)'],\n",
    "                y_pred = predicciones_lr\n",
    "            )\n",
    "print(f\"Error de test (mae): {error_mae_lr}\")\n",
    "print(f\"Error de test (mse): {error_mse_lr}\")\n",
    "print(f\"R2 Score: {score_lr}\")"
   ]
  },
  {
   "cell_type": "markdown",
   "id": "e04d60e9",
   "metadata": {},
   "source": [
    "Veiem que l'error de test no és molt gran i l'R2 score no està malament, amb un 73,7%."
   ]
  },
  {
   "cell_type": "markdown",
   "id": "954044f0",
   "metadata": {},
   "source": [
    "A continuació farem una gràfica per veure com encaixen les prediccions en relació a la realitat."
   ]
  },
  {
   "cell_type": "code",
   "execution_count": 948,
   "id": "cc84e83e",
   "metadata": {},
   "outputs": [
    {
     "data": {
      "image/png": "[encoded data removed]",
      "text/plain": [
       "<Figure size 900x400 with 1 Axes>"
      ]
     },
     "metadata": {},
     "output_type": "display_data"
    }
   ],
   "source": [
    "# Gràfic\n",
    "# ==============================================================================\n",
    "fig, ax = plt.subplots(figsize=(9, 4))\n",
    "datos_train['Nivell absolut (msnm)'].plot(ax=ax, label='train')\n",
    "datos_test['Nivell absolut (msnm)'].plot(ax=ax, label='test')\n",
    "predicciones_lr.plot(ax=ax, label='predicciones')\n",
    "ax.legend();"
   ]
  },
  {
   "cell_type": "markdown",
   "id": "53f9e41d",
   "metadata": {},
   "source": [
    "Veiem que a l'inici i fins una mica més de la meitat del conjunt de test, les prediccions del nostr emodel encaixen força bé, però cap al final el nostre model prediu valors per sobre dels reals."
   ]
  },
  {
   "cell_type": "markdown",
   "id": "bc06b381",
   "metadata": {},
   "source": [
    "Ara continuarem provan diferents models regressius a veure si trobem cap que millori els resultats del nostre primer model."
   ]
  },
  {
   "cell_type": "markdown",
   "id": "657b86eb",
   "metadata": {},
   "source": [
    "## Ridge"
   ]
  },
  {
   "cell_type": "code",
   "execution_count": 1087,
   "id": "dcc103ec",
   "metadata": {},
   "outputs": [
    {
     "data": {
      "text/plain": [
       "================= \n",
       "ForecasterAutoreg \n",
       "================= \n",
       "Regressor: Ridge(random_state=42) \n",
       "Lags: [   1    2    3 ... 6178 6179 6180] \n",
       "Transformer for y: None \n",
       "Transformer for exog: None \n",
       "Window size: 6180 \n",
       "Weight function included: False \n",
       "Exogenous included: False \n",
       "Type of exogenous variable: None \n",
       "Exogenous variables names: None \n",
       "Training range: [Timestamp('2000-01-01 00:00:00'), Timestamp('2021-01-01 00:00:00')] \n",
       "Training index type: DatetimeIndex \n",
       "Training index frequency: D \n",
       "Regressor parameters: {'alpha': 1.0, 'copy_X': True, 'fit_intercept': True, 'max_iter': None, 'normalize': 'deprecated', 'positive': False, 'random_state': 42, 'solver': 'auto', 'tol': 0.001} \n",
       "Creation date: 2023-01-11 19:09:43 \n",
       "Last fit date: 2023-01-11 19:09:43 \n",
       "Skforecast version: 0.6.0 \n",
       "Python version: 3.9.13 "
      ]
     },
     "execution_count": 1087,
     "metadata": {},
     "output_type": "execute_result"
    }
   ],
   "source": [
    "# Crear forecaster\n",
    "# ==============================================================================\n",
    "forecaster_ridge = ForecasterAutoreg(\n",
    "                regressor = Ridge(random_state=42),\n",
    "                lags = 6180\n",
    "             )\n",
    "\n",
    "forecaster_ridge.fit(y=datos_train['Nivell absolut (msnm)'])\n",
    "forecaster_ridge"
   ]
  },
  {
   "cell_type": "code",
   "execution_count": 1088,
   "id": "6d71c0ab",
   "metadata": {},
   "outputs": [],
   "source": [
    "# Prediccions\n",
    "# ==============================================================================\n",
    "steps = 365\n",
    "predicciones_ridge = forecaster_ridge.predict(steps=steps)"
   ]
  },
  {
   "cell_type": "code",
   "execution_count": 88,
   "id": "bcd8d52f",
   "metadata": {},
   "outputs": [
    {
     "name": "stdout",
     "output_type": "stream",
     "text": [
      "Error de test (mae): 1.6204177398487152\n",
      "Error de test (mse): 5.62401171416292\n",
      "R2 Score: 0.7245370283820416\n"
     ]
    }
   ],
   "source": [
    "# Metriques\n",
    "# ==============================================================================\n",
    "error_mse_ridge = mean_squared_error(\n",
    "                y_true = datos_test['Nivell absolut (msnm)'],\n",
    "                y_pred = predicciones_ridge\n",
    "            )\n",
    "error_mae_ridge = mean_absolute_error(\n",
    "                y_true = datos_test['Nivell absolut (msnm)'],\n",
    "                y_pred = predicciones_lr\n",
    "            )\n",
    "score_ridge = r2_score(\n",
    "                y_true = datos_test['Nivell absolut (msnm)'],\n",
    "                y_pred = predicciones_ridge\n",
    "            )\n",
    "print(f\"Error de test (mae): {error_mae_ridge}\")\n",
    "print(f\"Error de test (mse): {error_mse_ridge}\")\n",
    "print(f\"R2 Score: {score_ridge}\")"
   ]
  },
  {
   "cell_type": "code",
   "execution_count": 980,
   "id": "ee8af068",
   "metadata": {},
   "outputs": [
    {
     "data": {
      "image/png": "[encoded data removed]",
      "text/plain": [
       "<Figure size 900x400 with 1 Axes>"
      ]
     },
     "metadata": {},
     "output_type": "display_data"
    }
   ],
   "source": [
    "# Gràfic\n",
    "# ==============================================================================\n",
    "fig, ax = plt.subplots(figsize=(9, 4))\n",
    "datos_train['Nivell absolut (msnm)'].plot(ax=ax, label='train')\n",
    "datos_test['Nivell absolut (msnm)'].plot(ax=ax, label='test')\n",
    "predicciones_ridge.plot(ax=ax, label='predicciones')\n",
    "ax.legend();"
   ]
  },
  {
   "cell_type": "markdown",
   "id": "fe297298",
   "metadata": {},
   "source": [
    "## PassiveAggressiveRegressor"
   ]
  },
  {
   "cell_type": "code",
   "execution_count": 1150,
   "id": "24c154bd",
   "metadata": {},
   "outputs": [
    {
     "data": {
      "text/plain": [
       "================= \n",
       "ForecasterAutoreg \n",
       "================= \n",
       "Regressor: PassiveAggressiveRegressor(random_state=42) \n",
       "Lags: [   1    2    3 ... 6178 6179 6180] \n",
       "Transformer for y: None \n",
       "Transformer for exog: None \n",
       "Window size: 6180 \n",
       "Weight function included: False \n",
       "Exogenous included: False \n",
       "Type of exogenous variable: None \n",
       "Exogenous variables names: None \n",
       "Training range: [Timestamp('2000-01-01 00:00:00'), Timestamp('2021-01-01 00:00:00')] \n",
       "Training index type: DatetimeIndex \n",
       "Training index frequency: D \n",
       "Regressor parameters: {'C': 1.0, 'average': False, 'early_stopping': False, 'epsilon': 0.1, 'fit_intercept': True, 'loss': 'epsilon_insensitive', 'max_iter': 1000, 'n_iter_no_change': 5, 'random_state': 42, 'shuffle': True, 'tol': 0.001, 'validation_fraction': 0.1, 'verbose': 0, 'warm_start': False} \n",
       "Creation date: 2023-01-11 19:47:11 \n",
       "Last fit date: 2023-01-11 19:47:13 \n",
       "Skforecast version: 0.6.0 \n",
       "Python version: 3.9.13 "
      ]
     },
     "execution_count": 1150,
     "metadata": {},
     "output_type": "execute_result"
    }
   ],
   "source": [
    "# Crear i entrenar forecaster\n",
    "# ==============================================================================\n",
    "forecaster_PAR = ForecasterAutoreg(\n",
    "                regressor =  PassiveAggressiveRegressor(random_state=42),\n",
    "                lags = 6180,\n",
    "                #transformer_y = MinMaxScaler()\n",
    "             )\n",
    "\n",
    "forecaster_PAR .fit(y=datos_train['Nivell absolut (msnm)'])\n",
    "forecaster_PAR "
   ]
  },
  {
   "cell_type": "code",
   "execution_count": 1151,
   "id": "08d29cd6",
   "metadata": {},
   "outputs": [],
   "source": [
    "# Prediccions\n",
    "# ==============================================================================\n",
    "steps = 365\n",
    "predicciones_PAR = forecaster_PAR.predict(steps=steps)"
   ]
  },
  {
   "cell_type": "code",
   "execution_count": 89,
   "id": "8de2cb80",
   "metadata": {},
   "outputs": [
    {
     "name": "stdout",
     "output_type": "stream",
     "text": [
      "Error de test (mae): 1.6204177398487152\n",
      "Error de test (mse): 5.035074174245105\n",
      "R2 Score: 0.7533830715783222\n"
     ]
    }
   ],
   "source": [
    "# Metriques\n",
    "# ==============================================================================\n",
    "error_mse_PAR = mean_squared_error(\n",
    "                y_true = datos_test['Nivell absolut (msnm)'],\n",
    "                y_pred = predicciones_PAR\n",
    "            )\n",
    "error_mae_PAR = mean_absolute_error(\n",
    "                y_true = datos_test['Nivell absolut (msnm)'],\n",
    "                y_pred = predicciones_lr\n",
    "            )\n",
    "score_PAR = r2_score(\n",
    "                y_true = datos_test['Nivell absolut (msnm)'],\n",
    "                y_pred = predicciones_PAR\n",
    "            )\n",
    "print(f\"Error de test (mae): {error_mae_PAR}\")\n",
    "print(f\"Error de test (mse): {error_mse_PAR}\")\n",
    "print(f\"R2 Score: {score_PAR}\")"
   ]
  },
  {
   "cell_type": "code",
   "execution_count": 1140,
   "id": "a6b68f98",
   "metadata": {},
   "outputs": [
    {
     "data": {
      "image/png": "[encoded data removed]",
      "text/plain": [
       "<Figure size 900x400 with 1 Axes>"
      ]
     },
     "metadata": {},
     "output_type": "display_data"
    }
   ],
   "source": [
    "# Gràfic\n",
    "# ==============================================================================\n",
    "fig, ax = plt.subplots(figsize=(9, 4))\n",
    "datos_train['Nivell absolut (msnm)'].plot(ax=ax, label='train')\n",
    "datos_test['Nivell absolut (msnm)'].plot(ax=ax, label='test')\n",
    "predicciones_PAR.plot(ax=ax, label='predicciones')\n",
    "ax.legend();"
   ]
  },
  {
   "cell_type": "markdown",
   "id": "d679c0cd",
   "metadata": {},
   "source": [
    "A continuació veurem quins parametres tenen cadascun dels 3 models que hem fet servir."
   ]
  },
  {
   "cell_type": "code",
   "execution_count": 1073,
   "id": "2bef0f36",
   "metadata": {},
   "outputs": [
    {
     "data": {
      "text/plain": [
       "{'copy_X': True,\n",
       " 'fit_intercept': True,\n",
       " 'n_jobs': None,\n",
       " 'normalize': 'deprecated',\n",
       " 'positive': False}"
      ]
     },
     "execution_count": 1073,
     "metadata": {},
     "output_type": "execute_result"
    }
   ],
   "source": [
    "ridge = LinearRegression()\n",
    "ridge.get_params()"
   ]
  },
  {
   "cell_type": "code",
   "execution_count": 1074,
   "id": "230aef31",
   "metadata": {},
   "outputs": [
    {
     "data": {
      "text/plain": [
       "{'alpha': 1.0,\n",
       " 'copy_X': True,\n",
       " 'fit_intercept': True,\n",
       " 'max_iter': None,\n",
       " 'normalize': 'deprecated',\n",
       " 'positive': False,\n",
       " 'random_state': None,\n",
       " 'solver': 'auto',\n",
       " 'tol': 0.001}"
      ]
     },
     "execution_count": 1074,
     "metadata": {},
     "output_type": "execute_result"
    }
   ],
   "source": [
    "ridge = Ridge()\n",
    "ridge.get_params()"
   ]
  },
  {
   "cell_type": "code",
   "execution_count": 1075,
   "id": "0f39fc22",
   "metadata": {},
   "outputs": [
    {
     "data": {
      "text/plain": [
       "{'C': 1.0,\n",
       " 'average': False,\n",
       " 'early_stopping': False,\n",
       " 'epsilon': 0.1,\n",
       " 'fit_intercept': True,\n",
       " 'loss': 'epsilon_insensitive',\n",
       " 'max_iter': 1000,\n",
       " 'n_iter_no_change': 5,\n",
       " 'random_state': None,\n",
       " 'shuffle': True,\n",
       " 'tol': 0.001,\n",
       " 'validation_fraction': 0.1,\n",
       " 'verbose': 0,\n",
       " 'warm_start': False}"
      ]
     },
     "execution_count": 1075,
     "metadata": {},
     "output_type": "execute_result"
    }
   ],
   "source": [
    "ridge = PassiveAggressiveRegressor()\n",
    "ridge.get_params()"
   ]
  },
  {
   "cell_type": "markdown",
   "id": "69bb7b36",
   "metadata": {},
   "source": [
    "Finalment buscarem els millors paràmetres per a cada model, per aconseguir el millor rendiment possible."
   ]
  },
  {
   "cell_type": "markdown",
   "id": "a6d73fc6",
   "metadata": {},
   "source": [
    "## Ridge Grid search"
   ]
  },
  {
   "cell_type": "code",
   "execution_count": 1094,
   "id": "cbc1e5b9",
   "metadata": {},
   "outputs": [
    {
     "name": "stdout",
     "output_type": "stream",
     "text": [
      "Number of models compared: 15.\n"
     ]
    },
    {
     "name": "stderr",
     "output_type": "stream",
     "text": [
      "loop lags_grid:   0%|                                               | 0/1 [00:00<?, ?it/s]\n",
      "loop param_grid:   0%|                                             | 0/15 [00:00<?, ?it/s]\u001b[A\n",
      "loop param_grid:   7%|██▍                                  | 1/15 [00:11<02:41, 11.51s/it]\u001b[A\n",
      "loop param_grid:  13%|████▉                                | 2/15 [00:24<02:39, 12.24s/it]\u001b[A\n",
      "loop param_grid:  20%|███████▍                             | 3/15 [00:36<02:29, 12.46s/it]\u001b[A\n",
      "loop param_grid:  27%|█████████▊                           | 4/15 [00:50<02:19, 12.69s/it]\u001b[A\n",
      "loop param_grid:  33%|████████████▎                        | 5/15 [01:03<02:11, 13.12s/it]\u001b[A\n",
      "loop param_grid:  40%|██████████████▊                      | 6/15 [01:16<01:56, 12.91s/it]\u001b[A\n",
      "loop param_grid:  47%|█████████████████▎                   | 7/15 [01:29<01:43, 12.97s/it]\u001b[A\n",
      "loop param_grid:  53%|███████████████████▋                 | 8/15 [01:42<01:30, 12.96s/it]\u001b[A\n",
      "loop param_grid:  60%|██████████████████████▏              | 9/15 [01:55<01:17, 12.95s/it]\u001b[A\n",
      "loop param_grid:  67%|████████████████████████            | 10/15 [02:07<01:04, 12.82s/it]\u001b[A\n",
      "loop param_grid:  73%|██████████████████████████▍         | 11/15 [02:21<00:52, 13.02s/it]\u001b[A\n",
      "loop param_grid:  80%|████████████████████████████▊       | 12/15 [02:34<00:39, 13.00s/it]\u001b[A\n",
      "loop param_grid:  87%|███████████████████████████████▏    | 13/15 [02:46<00:25, 12.90s/it]\u001b[A\n",
      "loop param_grid:  93%|█████████████████████████████████▌  | 14/15 [03:00<00:13, 13.20s/it]\u001b[A\n",
      "loop param_grid: 100%|████████████████████████████████████| 15/15 [03:14<00:00, 13.35s/it]\u001b[A\n",
      "loop lags_grid: 100%|██████████████████████████████████████| 1/1 [03:14<00:00, 194.58s/it]\u001b[A\n"
     ]
    },
    {
     "name": "stdout",
     "output_type": "stream",
     "text": [
      "`Forecaster` refitted using the best-found lags and parameters, and the whole data set: \n",
      "  Lags: [   1    2    3 ... 6178 6179 6180] \n",
      "  Parameters: {'alpha': 5.0, 'max_iter': 100}\n",
      "  Backtesting metric: 0.004860908686362819\n",
      "\n"
     ]
    }
   ],
   "source": [
    "# Grid search de hiperparámetros\n",
    "# ==============================================================================\n",
    "steps = 36\n",
    "forecaster = ForecasterAutoreg(\n",
    "                regressor = Ridge(),\n",
    "                lags      = 6180 \n",
    "             )\n",
    "\n",
    "# Lags utilizados como predictores\n",
    "lags_grid = [6180]\n",
    "\n",
    "# Hiperparámetros del regresor\n",
    "param_grid = {'max_iter': [100, 500, 1000],\n",
    "              'alpha':  [1.0, 2.0, 3.0, 4.0, 5.0]}\n",
    "\n",
    "resultados_grid = grid_search_forecaster(\n",
    "                        forecaster         = forecaster,\n",
    "                        y                  = datos_train['Nivell absolut (msnm)'],\n",
    "                        param_grid         = param_grid,\n",
    "                        lags_grid          = lags_grid,\n",
    "                        steps              = steps,\n",
    "                        refit              = True,\n",
    "                        metric             = 'mean_absolute_percentage_error',\n",
    "                        initial_train_size = int(len(datos_train)*0.9),\n",
    "                        fixed_train_size   = False,\n",
    "                        return_best        = True,\n",
    "                        verbose            = False\n",
    "                  )"
   ]
  },
  {
   "cell_type": "code",
   "execution_count": 1095,
   "id": "322de6bd",
   "metadata": {},
   "outputs": [
    {
     "data": {
      "text/plain": [
       "================= \n",
       "ForecasterAutoreg \n",
       "================= \n",
       "Regressor: Ridge(alpha=5.0, max_iter=100, random_state=42) \n",
       "Lags: [   1    2    3 ... 6178 6179 6180] \n",
       "Transformer for y: None \n",
       "Transformer for exog: None \n",
       "Window size: 6180 \n",
       "Weight function included: False \n",
       "Exogenous included: False \n",
       "Type of exogenous variable: None \n",
       "Exogenous variables names: None \n",
       "Training range: [Timestamp('2000-01-01 00:00:00'), Timestamp('2021-01-01 00:00:00')] \n",
       "Training index type: DatetimeIndex \n",
       "Training index frequency: D \n",
       "Regressor parameters: {'alpha': 5.0, 'copy_X': True, 'fit_intercept': True, 'max_iter': 100, 'normalize': 'deprecated', 'positive': False, 'random_state': 42, 'solver': 'auto', 'tol': 0.001} \n",
       "Creation date: 2023-01-11 19:17:51 \n",
       "Last fit date: 2023-01-11 19:17:51 \n",
       "Skforecast version: 0.6.0 \n",
       "Python version: 3.9.13 "
      ]
     },
     "execution_count": 1095,
     "metadata": {},
     "output_type": "execute_result"
    }
   ],
   "source": [
    "# Crear forecaster\n",
    "# ==============================================================================\n",
    "forecaster_ridge_best = ForecasterAutoreg(\n",
    "                regressor = Ridge(alpha = 5.0, max_iter = 100, random_state=42),\n",
    "                lags = 6180\n",
    "             )\n",
    "\n",
    "forecaster_ridge_best.fit(y=datos_train['Nivell absolut (msnm)'])\n",
    "forecaster_ridge_best"
   ]
  },
  {
   "cell_type": "code",
   "execution_count": 1096,
   "id": "4ba59c47",
   "metadata": {},
   "outputs": [],
   "source": [
    "# Prediccions\n",
    "# ==============================================================================\n",
    "steps = 365\n",
    "predicciones_ridge_best = forecaster_ridge_best.predict(steps=steps)"
   ]
  },
  {
   "cell_type": "code",
   "execution_count": 90,
   "id": "07636a25",
   "metadata": {},
   "outputs": [
    {
     "name": "stdout",
     "output_type": "stream",
     "text": [
      "Error de test (mse): 1.6204177398487152\n",
      "Error de test (mse): 5.586968120312772\n",
      "R2 Score: 0.7263514162176277\n"
     ]
    }
   ],
   "source": [
    "# Metriques\n",
    "# ==============================================================================\n",
    "error_mse_rb = mean_squared_error(\n",
    "                y_true = datos_test['Nivell absolut (msnm)'],\n",
    "                y_pred = predicciones_ridge_best\n",
    "            )\n",
    "error_mae_rb = mean_absolute_error(\n",
    "                y_true = datos_test['Nivell absolut (msnm)'],\n",
    "                y_pred = predicciones_lr\n",
    "            )\n",
    "score_rb = r2_score(\n",
    "                y_true = datos_test['Nivell absolut (msnm)'],\n",
    "                y_pred = predicciones_ridge_best\n",
    "            )\n",
    "print(f\"Error de test (mse): {error_mae_rb}\")\n",
    "print(f\"Error de test (mse): {error_mse_rb}\")\n",
    "print(f\"R2 Score: {score_rb}\")"
   ]
  },
  {
   "cell_type": "markdown",
   "id": "019a5a77",
   "metadata": {
    "tags": []
   },
   "source": [
    "## LinearRegression Grid search"
   ]
  },
  {
   "cell_type": "code",
   "execution_count": 1099,
   "id": "7f14fcba",
   "metadata": {},
   "outputs": [
    {
     "name": "stdout",
     "output_type": "stream",
     "text": [
      "Number of models compared: 3.\n"
     ]
    },
    {
     "name": "stderr",
     "output_type": "stream",
     "text": [
      "loop lags_grid:   0%|                                               | 0/1 [00:00<?, ?it/s]\n",
      "loop param_grid:   0%|                                              | 0/3 [00:00<?, ?it/s]\u001b[A\n",
      "loop param_grid:  33%|████████████▋                         | 1/3 [00:44<01:28, 44.01s/it]\u001b[A\n",
      "loop param_grid:  67%|█████████████████████████▎            | 2/3 [01:28<00:44, 44.07s/it]\u001b[A\n",
      "loop param_grid: 100%|██████████████████████████████████████| 3/3 [02:11<00:00, 43.96s/it]\u001b[A\n",
      "loop lags_grid: 100%|██████████████████████████████████████| 1/1 [02:11<00:00, 131.96s/it]\u001b[A\n"
     ]
    },
    {
     "name": "stdout",
     "output_type": "stream",
     "text": [
      "`Forecaster` refitted using the best-found lags and parameters, and the whole data set: \n",
      "  Lags: [   1    2    3 ... 6178 6179 6180] \n",
      "  Parameters: {'n_jobs': 10}\n",
      "  Backtesting metric: 0.004886696832024486\n",
      "\n"
     ]
    }
   ],
   "source": [
    "# Grid search de hiperparámetros\n",
    "# ==============================================================================\n",
    "steps = 36\n",
    "forecaster = ForecasterAutoreg(\n",
    "                regressor = LinearRegression(),\n",
    "                lags      = 6180 \n",
    "             )\n",
    "\n",
    "# Lags utilizados como predictores\n",
    "lags_grid = [6180]\n",
    "\n",
    "# Hiperparámetros del regresor\n",
    "param_grid = {'n_jobs': [10,100,1000]}\n",
    "\n",
    "resultados_grid = grid_search_forecaster(\n",
    "                        forecaster         = forecaster,\n",
    "                        y                  = datos_train['Nivell absolut (msnm)'],\n",
    "                        param_grid         = param_grid,\n",
    "                        lags_grid          = lags_grid,\n",
    "                        steps              = steps,\n",
    "                        refit              = True,\n",
    "                        metric             = 'mean_absolute_percentage_error',\n",
    "                        initial_train_size = int(len(datos_train)*0.9),\n",
    "                        fixed_train_size   = False,\n",
    "                        return_best        = True,\n",
    "                        verbose            = False)"
   ]
  },
  {
   "cell_type": "code",
   "execution_count": 1101,
   "id": "96d2a0a3",
   "metadata": {},
   "outputs": [
    {
     "data": {
      "text/plain": [
       "================= \n",
       "ForecasterAutoreg \n",
       "================= \n",
       "Regressor: LinearRegression(n_jobs=10) \n",
       "Lags: [   1    2    3 ... 6178 6179 6180] \n",
       "Transformer for y: None \n",
       "Transformer for exog: None \n",
       "Window size: 6180 \n",
       "Weight function included: False \n",
       "Exogenous included: False \n",
       "Type of exogenous variable: None \n",
       "Exogenous variables names: None \n",
       "Training range: [Timestamp('2000-01-01 00:00:00'), Timestamp('2021-01-01 00:00:00')] \n",
       "Training index type: DatetimeIndex \n",
       "Training index frequency: D \n",
       "Regressor parameters: {'copy_X': True, 'fit_intercept': True, 'n_jobs': 10, 'normalize': 'deprecated', 'positive': False} \n",
       "Creation date: 2023-01-11 19:22:44 \n",
       "Last fit date: 2023-01-11 19:22:47 \n",
       "Skforecast version: 0.6.0 \n",
       "Python version: 3.9.13 "
      ]
     },
     "execution_count": 1101,
     "metadata": {},
     "output_type": "execute_result"
    }
   ],
   "source": [
    "# Crear forecaster\n",
    "# ==============================================================================\n",
    "forecaster_lr_best = ForecasterAutoreg(\n",
    "                regressor = LinearRegression(n_jobs=10),\n",
    "                lags = 6180\n",
    "             )\n",
    "\n",
    "forecaster_lr_best.fit(y=datos_train['Nivell absolut (msnm)'])\n",
    "forecaster_lr_best"
   ]
  },
  {
   "cell_type": "code",
   "execution_count": 1102,
   "id": "310d1cba",
   "metadata": {},
   "outputs": [],
   "source": [
    "# Prediccions\n",
    "# ==============================================================================\n",
    "steps = 365\n",
    "predicciones_lr_best = forecaster_lr_best.predict(steps=steps)"
   ]
  },
  {
   "cell_type": "code",
   "execution_count": 91,
   "id": "5c05b026",
   "metadata": {},
   "outputs": [
    {
     "name": "stdout",
     "output_type": "stream",
     "text": [
      "Error de test (mse): 1.6204177398487152\n",
      "Error de test (mse): 5.338831531329344\n",
      "R2 Score: 0.7385050968361064\n"
     ]
    }
   ],
   "source": [
    "# Metriques\n",
    "# ==============================================================================\n",
    "error_mse_lrb = mean_squared_error(\n",
    "                y_true = datos_test['Nivell absolut (msnm)'],\n",
    "                y_pred = predicciones_lr_best\n",
    "            )\n",
    "error_mae_lrb = mean_absolute_error(\n",
    "                y_true = datos_test['Nivell absolut (msnm)'],\n",
    "                y_pred = predicciones_lr\n",
    "            )\n",
    "score_lrb = r2_score(\n",
    "                y_true = datos_test['Nivell absolut (msnm)'],\n",
    "                y_pred = predicciones_lr_best\n",
    "            )\n",
    "print(f\"Error de test (mse): {error_mae_lrb}\")\n",
    "print(f\"Error de test (mse): {error_mse_lrb}\")\n",
    "print(f\"R2 Score: {score_lrb}\")"
   ]
  },
  {
   "cell_type": "markdown",
   "id": "12c084c2",
   "metadata": {},
   "source": [
    "## PassiveAggressiveRegressor Grid search"
   ]
  },
  {
   "cell_type": "code",
   "execution_count": null,
   "id": "922f05fc",
   "metadata": {},
   "outputs": [],
   "source": [
    "# Grid search de hiperparámetros\n",
    "# ==============================================================================\n",
    "steps = 36\n",
    "forecaster = ForecasterAutoreg(\n",
    "                regressor = PassiveAggressiveRegressor(),\n",
    "                lags      = 6180 \n",
    "             )\n",
    "\n",
    "# Lags utilizados como predictores\n",
    "lags_grid = [6180]\n",
    "\n",
    "# Hiperparámetros del regresor\n",
    "param_grid = {'epsilon': [0.1,0.2],\n",
    "            'loss': {'epsilon_insensitive','squared_epsilon_insensitive' }}\n",
    "\n",
    "resultados_grid = grid_search_forecaster(\n",
    "                        forecaster         = forecaster,\n",
    "                        y                  = datos_train['Nivell absolut (msnm)'],\n",
    "                        param_grid         = param_grid,\n",
    "                        lags_grid          = lags_grid,\n",
    "                        steps              = steps,\n",
    "                        refit              = True,\n",
    "                        metric             = 'mean_absolute_percentage_error',\n",
    "                        initial_train_size = int(len(datos_train)*0.9),\n",
    "                        fixed_train_size   = False,\n",
    "                        return_best        = True,\n",
    "                        verbose            = False)"
   ]
  },
  {
   "cell_type": "code",
   "execution_count": 1208,
   "id": "da33d196",
   "metadata": {},
   "outputs": [
    {
     "data": {
      "text/plain": [
       "================= \n",
       "ForecasterAutoreg \n",
       "================= \n",
       "Regressor: PassiveAggressiveRegressor(epsilon=0.2, loss='squared_epsilon_insensitive',\n",
       "                           random_state=42) \n",
       "Lags: [   1    2    3 ... 6178 6179 6180] \n",
       "Transformer for y: None \n",
       "Transformer for exog: None \n",
       "Window size: 6180 \n",
       "Weight function included: False \n",
       "Exogenous included: False \n",
       "Type of exogenous variable: None \n",
       "Exogenous variables names: None \n",
       "Training range: [Timestamp('2000-01-01 00:00:00'), Timestamp('2021-01-01 00:00:00')] \n",
       "Training index type: DatetimeIndex \n",
       "Training index frequency: D \n",
       "Regressor parameters: {'C': 1.0, 'average': False, 'early_stopping': False, 'epsilon': 0.2, 'fit_intercept': True, 'loss': 'squared_epsilon_insensitive', 'max_iter': 1000, 'n_iter_no_change': 5, 'random_state': 42, 'shuffle': True, 'tol': 0.001, 'validation_fraction': 0.1, 'verbose': 0, 'warm_start': False} \n",
       "Creation date: 2023-01-11 20:04:33 \n",
       "Last fit date: 2023-01-11 20:04:35 \n",
       "Skforecast version: 0.6.0 \n",
       "Python version: 3.9.13 "
      ]
     },
     "execution_count": 1208,
     "metadata": {},
     "output_type": "execute_result"
    }
   ],
   "source": [
    "# Crear i entrenar forecaster\n",
    "# ==============================================================================\n",
    "forecaster_PAR_best = ForecasterAutoreg(\n",
    "                regressor =  PassiveAggressiveRegressor(loss='squared_epsilon_insensitive', epsilon= 0.2, random_state=42),\n",
    "                lags = 6180,\n",
    "                #transformer_y = MinMaxScaler()\n",
    "             )\n",
    "\n",
    "forecaster_PAR_best.fit(y=datos_train['Nivell absolut (msnm)'])\n",
    "forecaster_PAR_best "
   ]
  },
  {
   "cell_type": "code",
   "execution_count": 1209,
   "id": "713628ab",
   "metadata": {},
   "outputs": [],
   "source": [
    "# Prediccions\n",
    "# ==============================================================================\n",
    "steps = 365\n",
    "predicciones_PAR_best = forecaster_PAR_best.predict(steps=steps)"
   ]
  },
  {
   "cell_type": "code",
   "execution_count": 93,
   "id": "5617495e",
   "metadata": {},
   "outputs": [
    {
     "name": "stdout",
     "output_type": "stream",
     "text": [
      "Error de test (mae): 1.6204177398487152\n",
      "Error de test (mse): 4.8201441543673\n",
      "R2 Score: 0.7639103010676119\n"
     ]
    }
   ],
   "source": [
    "# Metriques\n",
    "# ==============================================================================\n",
    "error_mse_PARb = mean_squared_error(\n",
    "                y_true = datos_test['Nivell absolut (msnm)'],\n",
    "                y_pred = predicciones_PAR_best\n",
    "            )\n",
    "error_mae_PARb = mean_absolute_error(\n",
    "                y_true = datos_test['Nivell absolut (msnm)'],\n",
    "                y_pred = predicciones_lr\n",
    "            )\n",
    "score_PARb = r2_score(\n",
    "                y_true = datos_test['Nivell absolut (msnm)'],\n",
    "                y_pred = predicciones_PAR_best\n",
    "            )\n",
    "print(f\"Error de test (mae): {error_mae_PARb}\")\n",
    "print(f\"Error de test (mse): {error_mse_PARb}\")\n",
    "print(f\"R2 Score: {score_PARb}\")"
   ]
  },
  {
   "cell_type": "markdown",
   "id": "86d594c4",
   "metadata": {},
   "source": [
    "Finalment farem un dataframe amb els resultats dels models per poder comparar-los."
   ]
  },
  {
   "cell_type": "code",
   "execution_count": 94,
   "id": "5ba8bae5",
   "metadata": {},
   "outputs": [],
   "source": [
    "metrics = {'Model': ['Linear Regression', 'Ridge', 'Passive Agressive',  'Linear Regression Best', 'Ridge Best', 'Passive Agressive Best'],\n",
    "           'MAE': [error_mae_lr, error_mae_ridge, error_mae_PAR,  error_mae_lrb, error_mae_rb, error_mae_PARb],\n",
    "           'MSE': [error_mse_lr, error_mse_ridge, error_mse_PAR,  error_mse_lrb, error_mse_rb, error_mse_PARb],\n",
    "        'R2': [score_lr, score_ridge, score_PAR, score_lrb, score_rb, score_PARb]}\n",
    "\n",
    "resultats = pd.DataFrame(data=metrics)"
   ]
  },
  {
   "cell_type": "code",
   "execution_count": 95,
   "id": "8207e650",
   "metadata": {},
   "outputs": [
    {
     "data": {
      "text/html": [
       "<div>\n",
       "<style scoped>\n",
       "    .dataframe tbody tr th:only-of-type {\n",
       "        vertical-align: middle;\n",
       "    }\n",
       "\n",
       "    .dataframe tbody tr th {\n",
       "        vertical-align: top;\n",
       "    }\n",
       "\n",
       "    .dataframe thead th {\n",
       "        text-align: right;\n",
       "    }\n",
       "</style>\n",
       "<table border=\"1\" class=\"dataframe\">\n",
       "  <thead>\n",
       "    <tr style=\"text-align: right;\">\n",
       "      <th></th>\n",
       "      <th>Model</th>\n",
       "      <th>MAE</th>\n",
       "      <th>MSE</th>\n",
       "      <th>R2</th>\n",
       "    </tr>\n",
       "  </thead>\n",
       "  <tbody>\n",
       "    <tr>\n",
       "      <th>0</th>\n",
       "      <td>Linear Regression</td>\n",
       "      <td>1.620418</td>\n",
       "      <td>5.354497</td>\n",
       "      <td>0.737738</td>\n",
       "    </tr>\n",
       "    <tr>\n",
       "      <th>1</th>\n",
       "      <td>Ridge</td>\n",
       "      <td>1.620418</td>\n",
       "      <td>5.624012</td>\n",
       "      <td>0.724537</td>\n",
       "    </tr>\n",
       "    <tr>\n",
       "      <th>2</th>\n",
       "      <td>Passive Agressive</td>\n",
       "      <td>1.620418</td>\n",
       "      <td>5.035074</td>\n",
       "      <td>0.753383</td>\n",
       "    </tr>\n",
       "    <tr>\n",
       "      <th>3</th>\n",
       "      <td>Linear Regression Best</td>\n",
       "      <td>1.620418</td>\n",
       "      <td>5.338832</td>\n",
       "      <td>0.738505</td>\n",
       "    </tr>\n",
       "    <tr>\n",
       "      <th>4</th>\n",
       "      <td>Ridge Best</td>\n",
       "      <td>1.620418</td>\n",
       "      <td>5.586968</td>\n",
       "      <td>0.726351</td>\n",
       "    </tr>\n",
       "    <tr>\n",
       "      <th>5</th>\n",
       "      <td>Passive Agressive Best</td>\n",
       "      <td>1.620418</td>\n",
       "      <td>4.820144</td>\n",
       "      <td>0.763910</td>\n",
       "    </tr>\n",
       "  </tbody>\n",
       "</table>\n",
       "</div>"
      ],
      "text/plain": [
       "                    Model       MAE       MSE        R2\n",
       "0       Linear Regression  1.620418  5.354497  0.737738\n",
       "1                   Ridge  1.620418  5.624012  0.724537\n",
       "2       Passive Agressive  1.620418  5.035074  0.753383\n",
       "3  Linear Regression Best  1.620418  5.338832  0.738505\n",
       "4              Ridge Best  1.620418  5.586968  0.726351\n",
       "5  Passive Agressive Best  1.620418  4.820144  0.763910"
      ]
     },
     "execution_count": 95,
     "metadata": {},
     "output_type": "execute_result"
    }
   ],
   "source": [
    "resultats"
   ]
  },
  {
   "cell_type": "markdown",
   "id": "d37ef065",
   "metadata": {},
   "source": [
    "Com podem veure el model PassiveAgressiveRegressor amb la millor performance trobada amb el grid search es el que aconsegueix un millor resultat amb un 76,38% i amb l'error més baix de tots els models testejats."
   ]
  },
  {
   "cell_type": "markdown",
   "id": "c838b3a3-995e-4f4b-b183-454b8892a8eb",
   "metadata": {},
   "source": [
    "## Models amb Variable Exògena"
   ]
  },
  {
   "cell_type": "markdown",
   "id": "bfbc05f6-876d-4ada-bd5b-279be83aa4f1",
   "metadata": {},
   "source": [
    "A continuació emprarem la precipitació com a variable exògena encara, que com hem vist en la gràfica de correlació de Pearson, la correlació entra aquesta i el nivell de l'embassament es força baixa."
   ]
  },
  {
   "cell_type": "code",
   "execution_count": 110,
   "id": "55c01286-53ac-4711-8a60-95d814f36f43",
   "metadata": {},
   "outputs": [
    {
     "data": {
      "text/html": [
       "<div>\n",
       "<style scoped>\n",
       "    .dataframe tbody tr th:only-of-type {\n",
       "        vertical-align: middle;\n",
       "    }\n",
       "\n",
       "    .dataframe tbody tr th {\n",
       "        vertical-align: top;\n",
       "    }\n",
       "\n",
       "    .dataframe thead th {\n",
       "        text-align: right;\n",
       "    }\n",
       "</style>\n",
       "<table border=\"1\" class=\"dataframe\">\n",
       "  <thead>\n",
       "    <tr style=\"text-align: right;\">\n",
       "      <th></th>\n",
       "      <th>Unnamed: 0</th>\n",
       "      <th>Nivell absolut (msnm)</th>\n",
       "      <th>Percentatge volum embassat (%)</th>\n",
       "      <th>Volum embassat (hm3)</th>\n",
       "      <th>PPT</th>\n",
       "    </tr>\n",
       "  </thead>\n",
       "  <tbody>\n",
       "    <tr>\n",
       "      <th>0</th>\n",
       "      <td>2000-01-01</td>\n",
       "      <td>147.27</td>\n",
       "      <td>50.8</td>\n",
       "      <td>31.02</td>\n",
       "      <td>0.0</td>\n",
       "    </tr>\n",
       "    <tr>\n",
       "      <th>1</th>\n",
       "      <td>2000-01-02</td>\n",
       "      <td>147.27</td>\n",
       "      <td>50.8</td>\n",
       "      <td>31.02</td>\n",
       "      <td>0.0</td>\n",
       "    </tr>\n",
       "    <tr>\n",
       "      <th>2</th>\n",
       "      <td>2000-01-03</td>\n",
       "      <td>147.27</td>\n",
       "      <td>50.8</td>\n",
       "      <td>31.02</td>\n",
       "      <td>0.0</td>\n",
       "    </tr>\n",
       "    <tr>\n",
       "      <th>3</th>\n",
       "      <td>2000-01-04</td>\n",
       "      <td>147.27</td>\n",
       "      <td>50.8</td>\n",
       "      <td>31.02</td>\n",
       "      <td>0.0</td>\n",
       "    </tr>\n",
       "    <tr>\n",
       "      <th>4</th>\n",
       "      <td>2000-01-05</td>\n",
       "      <td>147.28</td>\n",
       "      <td>50.8</td>\n",
       "      <td>31.04</td>\n",
       "      <td>0.0</td>\n",
       "    </tr>\n",
       "  </tbody>\n",
       "</table>\n",
       "</div>"
      ],
      "text/plain": [
       "   Unnamed: 0  Nivell absolut (msnm)  Percentatge volum embassat (%)  \\\n",
       "0  2000-01-01                 147.27                            50.8   \n",
       "1  2000-01-02                 147.27                            50.8   \n",
       "2  2000-01-03                 147.27                            50.8   \n",
       "3  2000-01-04                 147.27                            50.8   \n",
       "4  2000-01-05                 147.28                            50.8   \n",
       "\n",
       "   Volum embassat (hm3)  PPT  \n",
       "0                 31.02  0.0  \n",
       "1                 31.02  0.0  \n",
       "2                 31.02  0.0  \n",
       "3                 31.02  0.0  \n",
       "4                 31.04  0.0  "
      ]
     },
     "execution_count": 110,
     "metadata": {},
     "output_type": "execute_result"
    }
   ],
   "source": [
    "datos = pd.read_csv('db_df.csv')\n",
    "datos.head()"
   ]
  },
  {
   "cell_type": "markdown",
   "id": "66f7bc4a-fed1-41dc-be78-1c08a391bbe5",
   "metadata": {},
   "source": [
    "En aquest cas farem servir  el nivell absolut i la precipitació, així que esborrarem la resta de les columnes."
   ]
  },
  {
   "cell_type": "code",
   "execution_count": 111,
   "id": "bdca61ab-654b-4e26-84fd-ade88ed36130",
   "metadata": {},
   "outputs": [],
   "source": [
    "datos.drop(['Percentatge volum embassat (%)'], axis = 'columns', inplace=True)\n",
    "datos.drop(['Volum embassat (hm3)'], axis = 'columns', inplace=True)"
   ]
  },
  {
   "cell_type": "code",
   "execution_count": 127,
   "id": "aff51191-05c6-4a7d-9ab2-132aa8c9ceff",
   "metadata": {},
   "outputs": [
    {
     "data": {
      "text/html": [
       "<div>\n",
       "<style scoped>\n",
       "    .dataframe tbody tr th:only-of-type {\n",
       "        vertical-align: middle;\n",
       "    }\n",
       "\n",
       "    .dataframe tbody tr th {\n",
       "        vertical-align: top;\n",
       "    }\n",
       "\n",
       "    .dataframe thead th {\n",
       "        text-align: right;\n",
       "    }\n",
       "</style>\n",
       "<table border=\"1\" class=\"dataframe\">\n",
       "  <thead>\n",
       "    <tr style=\"text-align: right;\">\n",
       "      <th></th>\n",
       "      <th>Nivell absolut (msnm)</th>\n",
       "      <th>PPT</th>\n",
       "    </tr>\n",
       "    <tr>\n",
       "      <th>Dia</th>\n",
       "      <th></th>\n",
       "      <th></th>\n",
       "    </tr>\n",
       "  </thead>\n",
       "  <tbody>\n",
       "    <tr>\n",
       "      <th>2000-01-01</th>\n",
       "      <td>147.27</td>\n",
       "      <td>0.0</td>\n",
       "    </tr>\n",
       "    <tr>\n",
       "      <th>2000-01-02</th>\n",
       "      <td>147.27</td>\n",
       "      <td>0.0</td>\n",
       "    </tr>\n",
       "    <tr>\n",
       "      <th>2000-01-03</th>\n",
       "      <td>147.27</td>\n",
       "      <td>0.0</td>\n",
       "    </tr>\n",
       "    <tr>\n",
       "      <th>2000-01-04</th>\n",
       "      <td>147.27</td>\n",
       "      <td>0.0</td>\n",
       "    </tr>\n",
       "    <tr>\n",
       "      <th>2000-01-05</th>\n",
       "      <td>147.28</td>\n",
       "      <td>0.0</td>\n",
       "    </tr>\n",
       "  </tbody>\n",
       "</table>\n",
       "</div>"
      ],
      "text/plain": [
       "            Nivell absolut (msnm)  PPT\n",
       "Dia                                   \n",
       "2000-01-01                 147.27  0.0\n",
       "2000-01-02                 147.27  0.0\n",
       "2000-01-03                 147.27  0.0\n",
       "2000-01-04                 147.27  0.0\n",
       "2000-01-05                 147.28  0.0"
      ]
     },
     "execution_count": 127,
     "metadata": {},
     "output_type": "execute_result"
    }
   ],
   "source": [
    "datos.head()"
   ]
  },
  {
   "cell_type": "markdown",
   "id": "4114be40-2bfd-4b97-9401-a3c920f816c1",
   "metadata": {},
   "source": [
    "Com que les dates no s'han guardat al csv com a index si no com a columna, amb nom Unnamed: 0, haurem de transformar-la a format datetime per després fer-la servir com a index. finalment establim una freqüencia diaria del dataframe i esborrem la columna Unnamed: 0."
   ]
  },
  {
   "cell_type": "code",
   "execution_count": 113,
   "id": "66bd4bdc-e995-4b0b-89f5-025f61bea286",
   "metadata": {},
   "outputs": [],
   "source": [
    "datos['Dia'] = pd.to_datetime(datos['Unnamed: 0'], format='%Y/%m/%d')\n",
    "datos = datos.set_index('Dia')\n",
    "datos = datos.asfreq('D')\n",
    "datos = datos.sort_index()\n",
    "datos.drop(['Unnamed: 0'], axis = 'columns', inplace=True)"
   ]
  },
  {
   "cell_type": "code",
   "execution_count": 114,
   "id": "39793091-be0b-4b06-b3eb-d487458f5a6d",
   "metadata": {},
   "outputs": [
    {
     "data": {
      "text/html": [
       "<div>\n",
       "<style scoped>\n",
       "    .dataframe tbody tr th:only-of-type {\n",
       "        vertical-align: middle;\n",
       "    }\n",
       "\n",
       "    .dataframe tbody tr th {\n",
       "        vertical-align: top;\n",
       "    }\n",
       "\n",
       "    .dataframe thead th {\n",
       "        text-align: right;\n",
       "    }\n",
       "</style>\n",
       "<table border=\"1\" class=\"dataframe\">\n",
       "  <thead>\n",
       "    <tr style=\"text-align: right;\">\n",
       "      <th></th>\n",
       "      <th>Nivell absolut (msnm)</th>\n",
       "      <th>PPT</th>\n",
       "    </tr>\n",
       "    <tr>\n",
       "      <th>Dia</th>\n",
       "      <th></th>\n",
       "      <th></th>\n",
       "    </tr>\n",
       "  </thead>\n",
       "  <tbody>\n",
       "    <tr>\n",
       "      <th>2000-01-01</th>\n",
       "      <td>147.27</td>\n",
       "      <td>0.0</td>\n",
       "    </tr>\n",
       "    <tr>\n",
       "      <th>2000-01-02</th>\n",
       "      <td>147.27</td>\n",
       "      <td>0.0</td>\n",
       "    </tr>\n",
       "    <tr>\n",
       "      <th>2000-01-03</th>\n",
       "      <td>147.27</td>\n",
       "      <td>0.0</td>\n",
       "    </tr>\n",
       "    <tr>\n",
       "      <th>2000-01-04</th>\n",
       "      <td>147.27</td>\n",
       "      <td>0.0</td>\n",
       "    </tr>\n",
       "    <tr>\n",
       "      <th>2000-01-05</th>\n",
       "      <td>147.28</td>\n",
       "      <td>0.0</td>\n",
       "    </tr>\n",
       "  </tbody>\n",
       "</table>\n",
       "</div>"
      ],
      "text/plain": [
       "            Nivell absolut (msnm)  PPT\n",
       "Dia                                   \n",
       "2000-01-01                 147.27  0.0\n",
       "2000-01-02                 147.27  0.0\n",
       "2000-01-03                 147.27  0.0\n",
       "2000-01-04                 147.27  0.0\n",
       "2000-01-05                 147.28  0.0"
      ]
     },
     "execution_count": 114,
     "metadata": {},
     "output_type": "execute_result"
    }
   ],
   "source": [
    "datos.head()"
   ]
  },
  {
   "cell_type": "markdown",
   "id": "c58ab71f-6d56-4785-a749-54d3df70d955",
   "metadata": {},
   "source": [
    "Farem servir només les dades fins a l'1 de gener del 2022,  per tenir una serie histórica amb anys sencers, que ens pot ajudar a l'hora de fer el model."
   ]
  },
  {
   "cell_type": "code",
   "execution_count": 128,
   "id": "160de2cf-51c0-4f3a-bc02-5d5f38879152",
   "metadata": {},
   "outputs": [],
   "source": [
    "datos = datos.loc['2000-01-01':'2022-01-01']"
   ]
  },
  {
   "cell_type": "markdown",
   "id": "82867a1a-8ed2-4c2d-bba2-2d2617454f18",
   "metadata": {},
   "source": [
    "Comprovem que el número de registres i el tipus de dades sigui el correcte."
   ]
  },
  {
   "cell_type": "code",
   "execution_count": 116,
   "id": "b8f6551b-971a-47b7-b3a2-ad9ee0bc88c6",
   "metadata": {},
   "outputs": [
    {
     "name": "stdout",
     "output_type": "stream",
     "text": [
      "<class 'pandas.core.frame.DataFrame'>\n",
      "DatetimeIndex: 8037 entries, 2000-01-01 to 2022-01-01\n",
      "Freq: D\n",
      "Data columns (total 2 columns):\n",
      " #   Column                 Non-Null Count  Dtype  \n",
      "---  ------                 --------------  -----  \n",
      " 0   Nivell absolut (msnm)  8037 non-null   float64\n",
      " 1   PPT                    8037 non-null   float64\n",
      "dtypes: float64(2)\n",
      "memory usage: 188.4 KB\n"
     ]
    }
   ],
   "source": [
    "datos.info()"
   ]
  },
  {
   "cell_type": "markdown",
   "id": "d2ebcc68-cc05-4dd6-a751-b6e78d87b8f4",
   "metadata": {},
   "source": [
    "A continuació separarem les dades en un conjunt d'entrenament i de test. \n",
    "Per al conjunt de test farem servir 365 observacions, o sigui un any, i la resta per l'entrenament."
   ]
  },
  {
   "cell_type": "code",
   "execution_count": 129,
   "id": "d9eb03c4-d12c-4d6d-a7ff-a3509d25682b",
   "metadata": {},
   "outputs": [
    {
     "name": "stdout",
     "output_type": "stream",
     "text": [
      "Fechas train : 2000-01-01 00:00:00 --- 2021-01-01 00:00:00  (n=7672)\n",
      "Fechas test  : 2021-01-02 00:00:00 --- 2022-01-01 00:00:00  (n=365)\n"
     ]
    },
    {
     "data": {
      "text/plain": [
       "<matplotlib.legend.Legend at 0x1350894f0>"
      ]
     },
     "execution_count": 129,
     "metadata": {},
     "output_type": "execute_result"
    },
    {
     "data": {
      "image/png": "[encoded data removed]",
      "text/plain": [
       "<Figure size 900x400 with 1 Axes>"
      ]
     },
     "metadata": {},
     "output_type": "display_data"
    }
   ],
   "source": [
    "# Separació dades train-test\n",
    "# ==============================================================================\n",
    "\n",
    "steps = 365\n",
    "datos_train = datos[:-steps]\n",
    "datos_test  = datos[-steps:]\n",
    "\n",
    "print(f\"Fechas train : {datos_train.index.min()} --- {datos_train.index.max()}  (n={len(datos_train)})\")\n",
    "print(f\"Fechas test  : {datos_test.index.min()} --- {datos_test.index.max()}  (n={len(datos_test)})\")\n",
    "\n",
    "# gràfica del train i test\n",
    "# ==============================================================================\n",
    "fig, ax = plt.subplots(figsize=(9, 4))\n",
    "datos_train['Nivell absolut (msnm)'].plot(ax=ax, label='train')\n",
    "datos_test['Nivell absolut (msnm)'].plot(ax=ax, label='test')\n",
    "ax.legend()"
   ]
  },
  {
   "cell_type": "markdown",
   "id": "02f57b90-be91-4e00-a30b-6303c0f6bb87",
   "metadata": {},
   "source": [
    "## Ridge"
   ]
  },
  {
   "cell_type": "code",
   "execution_count": 134,
   "id": "3707eced-80ca-4b7f-bbe1-18a5ee47a3bc",
   "metadata": {},
   "outputs": [
    {
     "data": {
      "text/plain": [
       "================= \n",
       "ForecasterAutoreg \n",
       "================= \n",
       "Regressor: Ridge(alpha=5.0, max_iter=100, random_state=42) \n",
       "Lags: [   1    2    3 ... 6178 6179 6180] \n",
       "Transformer for y: None \n",
       "Transformer for exog: None \n",
       "Window size: 6180 \n",
       "Weight function included: False \n",
       "Exogenous included: True \n",
       "Type of exogenous variable: <class 'pandas.core.series.Series'> \n",
       "Exogenous variables names: PPT \n",
       "Training range: [Timestamp('2000-01-01 00:00:00'), Timestamp('2021-01-01 00:00:00')] \n",
       "Training index type: DatetimeIndex \n",
       "Training index frequency: D \n",
       "Regressor parameters: {'alpha': 5.0, 'copy_X': True, 'fit_intercept': True, 'max_iter': 100, 'normalize': 'deprecated', 'positive': False, 'random_state': 42, 'solver': 'auto', 'tol': 0.001} \n",
       "Creation date: 2023-01-18 23:32:44 \n",
       "Last fit date: 2023-01-18 23:32:45 \n",
       "Skforecast version: 0.6.0 \n",
       "Python version: 3.9.13 "
      ]
     },
     "execution_count": 134,
     "metadata": {},
     "output_type": "execute_result"
    }
   ],
   "source": [
    "# Crear forecaster\n",
    "# ==============================================================================\n",
    "forecaster_ridge_exog = ForecasterAutoreg(\n",
    "                regressor = Ridge(alpha = 5.0, max_iter = 100, random_state=42),\n",
    "                lags = 6180\n",
    "             )\n",
    "\n",
    "forecaster_ridge_exog.fit(y=datos_train['Nivell absolut (msnm)'], exog=datos_train['PPT'])\n",
    "forecaster_ridge_exog"
   ]
  },
  {
   "cell_type": "code",
   "execution_count": 135,
   "id": "6a7db1ec-d638-4161-9cf7-04eb8f6315dd",
   "metadata": {},
   "outputs": [],
   "source": [
    "# Prediccions\n",
    "# ==============================================================================\n",
    "steps = 365\n",
    "predicciones_ridge_exog = forecaster_ridge_exog.predict(steps=steps, exog=datos_test['PPT'])"
   ]
  },
  {
   "cell_type": "code",
   "execution_count": 136,
   "id": "adeddd41-03e0-462e-aa00-4443154431d2",
   "metadata": {},
   "outputs": [
    {
     "name": "stdout",
     "output_type": "stream",
     "text": [
      "Error de test (mae): 1.6702572511695015\n",
      "Error de test (mse): 5.586968120312772\n",
      "R2 Score: 0.7263514162176277\n"
     ]
    }
   ],
   "source": [
    "# Metriques\n",
    "# ==============================================================================\n",
    "error_mse_rbx = mean_squared_error(\n",
    "                y_true = datos_test['Nivell absolut (msnm)'],\n",
    "                y_pred = predicciones_ridge_exog\n",
    "            )\n",
    "error_mae_rbx = mean_absolute_error(\n",
    "                y_true = datos_test['Nivell absolut (msnm)'],\n",
    "                y_pred = predicciones_ridge_exog\n",
    "            )\n",
    "score_rbx = r2_score(\n",
    "                y_true = datos_test['Nivell absolut (msnm)'],\n",
    "                y_pred = predicciones_ridge_exog\n",
    "            )\n",
    "print(f\"Error de test (mae): {error_mae_rbx}\")\n",
    "print(f\"Error de test (mse): {error_mse_rbx}\")\n",
    "print(f\"R2 Score: {score_rbx}\")"
   ]
  },
  {
   "cell_type": "markdown",
   "id": "049ce971-5269-4bb6-bdcb-3ce738066a4b",
   "metadata": {},
   "source": [
    "## LinearRegression"
   ]
  },
  {
   "cell_type": "code",
   "execution_count": 137,
   "id": "8f288a0e-975d-470f-8e3f-af4273cf2651",
   "metadata": {},
   "outputs": [
    {
     "data": {
      "text/plain": [
       "================= \n",
       "ForecasterAutoreg \n",
       "================= \n",
       "Regressor: LinearRegression(n_jobs=10) \n",
       "Lags: [   1    2    3 ... 6178 6179 6180] \n",
       "Transformer for y: None \n",
       "Transformer for exog: None \n",
       "Window size: 6180 \n",
       "Weight function included: False \n",
       "Exogenous included: True \n",
       "Type of exogenous variable: <class 'pandas.core.series.Series'> \n",
       "Exogenous variables names: PPT \n",
       "Training range: [Timestamp('2000-01-01 00:00:00'), Timestamp('2021-01-01 00:00:00')] \n",
       "Training index type: DatetimeIndex \n",
       "Training index frequency: D \n",
       "Regressor parameters: {'copy_X': True, 'fit_intercept': True, 'n_jobs': 10, 'normalize': 'deprecated', 'positive': False} \n",
       "Creation date: 2023-01-18 23:33:26 \n",
       "Last fit date: 2023-01-18 23:33:30 \n",
       "Skforecast version: 0.6.0 \n",
       "Python version: 3.9.13 "
      ]
     },
     "execution_count": 137,
     "metadata": {},
     "output_type": "execute_result"
    }
   ],
   "source": [
    "# Crear forecaster\n",
    "# ==============================================================================\n",
    "forecaster_lr_exog = ForecasterAutoreg(\n",
    "                regressor = LinearRegression(n_jobs=10),\n",
    "                lags = 6180\n",
    "             )\n",
    "\n",
    "forecaster_lr_exog.fit(y=datos_train['Nivell absolut (msnm)'], exog=datos_train['PPT'])\n",
    "forecaster_lr_exog"
   ]
  },
  {
   "cell_type": "code",
   "execution_count": 138,
   "id": "be855e1f-8870-4495-9633-b6c7f389da99",
   "metadata": {},
   "outputs": [],
   "source": [
    "# Prediccions\n",
    "# ==============================================================================\n",
    "steps = 365\n",
    "predicciones_lr_exog = forecaster_lr_exog.predict(steps=steps, exog=datos_test['PPT'])"
   ]
  },
  {
   "cell_type": "code",
   "execution_count": 147,
   "id": "ddd98961-b40f-48ee-93cd-eb43ae409e1c",
   "metadata": {},
   "outputs": [
    {
     "name": "stdout",
     "output_type": "stream",
     "text": [
      "Error de test (mae): 1.615321621554624\n",
      "Error de test (mse): 5.338831531329344\n",
      "R2 Score: 0.7385050968361064\n"
     ]
    }
   ],
   "source": [
    "# Metriques\n",
    "# ==============================================================================\n",
    "error_mse_lrx = mean_squared_error(\n",
    "                y_true = datos_test['Nivell absolut (msnm)'],\n",
    "                y_pred = predicciones_lr_exog\n",
    "            )\n",
    "error_mae_lrx = mean_absolute_error(\n",
    "                y_true = datos_test['Nivell absolut (msnm)'],\n",
    "                y_pred = predicciones_lr_exog\n",
    "            )\n",
    "score_lrx = r2_score(\n",
    "                y_true = datos_test['Nivell absolut (msnm)'],\n",
    "                y_pred = predicciones_lr_exog\n",
    "            )\n",
    "print(f\"Error de test (mae): {error_mae_lrx}\")\n",
    "print(f\"Error de test (mse): {error_mse_lrx}\")\n",
    "print(f\"R2 Score: {score_lrx}\")"
   ]
  },
  {
   "cell_type": "markdown",
   "id": "a3d40639-4958-4788-bb8a-5cca9c50bc68",
   "metadata": {},
   "source": [
    "## PassiveAggressiveRegressor"
   ]
  },
  {
   "cell_type": "code",
   "execution_count": 140,
   "id": "7e3a883b-a058-4d86-82f1-9d371022ff5d",
   "metadata": {},
   "outputs": [
    {
     "data": {
      "text/plain": [
       "================= \n",
       "ForecasterAutoreg \n",
       "================= \n",
       "Regressor: PassiveAggressiveRegressor(epsilon=0.2, loss='squared_epsilon_insensitive',\n",
       "                           random_state=42) \n",
       "Lags: [   1    2    3 ... 6178 6179 6180] \n",
       "Transformer for y: None \n",
       "Transformer for exog: None \n",
       "Window size: 6180 \n",
       "Weight function included: False \n",
       "Exogenous included: True \n",
       "Type of exogenous variable: <class 'pandas.core.series.Series'> \n",
       "Exogenous variables names: PPT \n",
       "Training range: [Timestamp('2000-01-01 00:00:00'), Timestamp('2021-01-01 00:00:00')] \n",
       "Training index type: DatetimeIndex \n",
       "Training index frequency: D \n",
       "Regressor parameters: {'C': 1.0, 'average': False, 'early_stopping': False, 'epsilon': 0.2, 'fit_intercept': True, 'loss': 'squared_epsilon_insensitive', 'max_iter': 1000, 'n_iter_no_change': 5, 'random_state': 42, 'shuffle': True, 'tol': 0.001, 'validation_fraction': 0.1, 'verbose': 0, 'warm_start': False} \n",
       "Creation date: 2023-01-18 23:34:19 \n",
       "Last fit date: 2023-01-18 23:34:21 \n",
       "Skforecast version: 0.6.0 \n",
       "Python version: 3.9.13 "
      ]
     },
     "execution_count": 140,
     "metadata": {},
     "output_type": "execute_result"
    }
   ],
   "source": [
    "# Crear i entrenar forecaster\n",
    "# ==============================================================================\n",
    "forecaster_PAR_exog = ForecasterAutoreg(\n",
    "                regressor =  PassiveAggressiveRegressor(loss='squared_epsilon_insensitive', epsilon= 0.2, random_state=42),\n",
    "                lags = 6180,\n",
    "                #transformer_y = MinMaxScaler()\n",
    "             )\n",
    "\n",
    "forecaster_PAR_exog.fit(y=datos_train['Nivell absolut (msnm)'] , exog=datos_train['PPT'])\n",
    "forecaster_PAR_exog "
   ]
  },
  {
   "cell_type": "code",
   "execution_count": 142,
   "id": "5710eac2-7384-49d5-ab48-b1f0d2d868fb",
   "metadata": {},
   "outputs": [],
   "source": [
    "# Prediccions\n",
    "# ==============================================================================\n",
    "steps = 365\n",
    "predicciones_PAR_exog = forecaster_PAR_exog.predict(steps=steps, exog=datos_test['PPT'])"
   ]
  },
  {
   "cell_type": "code",
   "execution_count": 145,
   "id": "537b4aed-36bc-486b-903b-38fffebc7df7",
   "metadata": {},
   "outputs": [
    {
     "name": "stdout",
     "output_type": "stream",
     "text": [
      "Error de test (mae): 1.482817754127311\n",
      "Error de test (mse): 4.8201441543673\n",
      "R2 Score: 0.7639103010676119\n"
     ]
    }
   ],
   "source": [
    "# Metriques\n",
    "# ==============================================================================\n",
    "error_mse_PARx = mean_squared_error(\n",
    "                y_true = datos_test['Nivell absolut (msnm)'],\n",
    "                y_pred = predicciones_PAR_exog\n",
    "            )\n",
    "error_mae_PARx = mean_absolute_error(\n",
    "                y_true = datos_test['Nivell absolut (msnm)'],\n",
    "                y_pred = predicciones_PAR_exog\n",
    "            )\n",
    "score_PARx = r2_score(\n",
    "                y_true = datos_test['Nivell absolut (msnm)'],\n",
    "                y_pred = predicciones_PAR_exog\n",
    "            )\n",
    "print(f\"Error de test (mae): {error_mae_PARx}\")\n",
    "print(f\"Error de test (mse): {error_mse_PARx}\")\n",
    "print(f\"R2 Score: {score_PARx}\")"
   ]
  },
  {
   "cell_type": "code",
   "execution_count": 151,
   "id": "df4d5ca0-89af-4a13-b99b-43621abc7cf0",
   "metadata": {},
   "outputs": [
    {
     "data": {
      "text/html": [
       "<div>\n",
       "<style scoped>\n",
       "    .dataframe tbody tr th:only-of-type {\n",
       "        vertical-align: middle;\n",
       "    }\n",
       "\n",
       "    .dataframe tbody tr th {\n",
       "        vertical-align: top;\n",
       "    }\n",
       "\n",
       "    .dataframe thead th {\n",
       "        text-align: right;\n",
       "    }\n",
       "</style>\n",
       "<table border=\"1\" class=\"dataframe\">\n",
       "  <thead>\n",
       "    <tr style=\"text-align: right;\">\n",
       "      <th></th>\n",
       "      <th>Model</th>\n",
       "      <th>MAE</th>\n",
       "      <th>MSE</th>\n",
       "      <th>R2</th>\n",
       "    </tr>\n",
       "  </thead>\n",
       "  <tbody>\n",
       "    <tr>\n",
       "      <th>0</th>\n",
       "      <td>Linear Regression</td>\n",
       "      <td>1.620418</td>\n",
       "      <td>5.354497</td>\n",
       "      <td>0.737738</td>\n",
       "    </tr>\n",
       "    <tr>\n",
       "      <th>1</th>\n",
       "      <td>Ridge</td>\n",
       "      <td>1.620418</td>\n",
       "      <td>5.624012</td>\n",
       "      <td>0.724537</td>\n",
       "    </tr>\n",
       "    <tr>\n",
       "      <th>2</th>\n",
       "      <td>Passive Agressive</td>\n",
       "      <td>1.620418</td>\n",
       "      <td>5.035074</td>\n",
       "      <td>0.753383</td>\n",
       "    </tr>\n",
       "    <tr>\n",
       "      <th>3</th>\n",
       "      <td>Linear Regression Best</td>\n",
       "      <td>1.620418</td>\n",
       "      <td>5.338832</td>\n",
       "      <td>0.738505</td>\n",
       "    </tr>\n",
       "    <tr>\n",
       "      <th>4</th>\n",
       "      <td>Ridge Best</td>\n",
       "      <td>1.620418</td>\n",
       "      <td>5.586968</td>\n",
       "      <td>0.726351</td>\n",
       "    </tr>\n",
       "    <tr>\n",
       "      <th>5</th>\n",
       "      <td>Passive Agressive Best</td>\n",
       "      <td>1.482818</td>\n",
       "      <td>4.820144</td>\n",
       "      <td>0.763910</td>\n",
       "    </tr>\n",
       "  </tbody>\n",
       "</table>\n",
       "</div>"
      ],
      "text/plain": [
       "                    Model       MAE       MSE        R2\n",
       "0       Linear Regression  1.620418  5.354497  0.737738\n",
       "1                   Ridge  1.620418  5.624012  0.724537\n",
       "2       Passive Agressive  1.620418  5.035074  0.753383\n",
       "3  Linear Regression Best  1.620418  5.338832  0.738505\n",
       "4              Ridge Best  1.620418  5.586968  0.726351\n",
       "5  Passive Agressive Best  1.482818  4.820144  0.763910"
      ]
     },
     "execution_count": 151,
     "metadata": {},
     "output_type": "execute_result"
    }
   ],
   "source": [
    "metrics = {'Model': ['Linear Regression', 'Ridge', 'Passive Agressive',  'Linear Regression Best', 'Ridge Best', 'Passive Agressive Best'],\n",
    "           'MAE': [error_mae_lr, error_mae_ridge, error_mae_PAR,  error_mae_lrb, error_mae_rb, error_mae_PARb],\n",
    "           'MSE': [error_mse_lr, error_mse_ridge, error_mse_PAR,  error_mse_lrb, error_mse_rb, error_mse_PARb],\n",
    "        'R2': [score_lr, score_ridge, score_PAR, score_lrb, score_rb, score_PARb]}\n",
    "\n",
    "resultats = pd.DataFrame(data=metrics)\n",
    "\n",
    "resultats"
   ]
  },
  {
   "cell_type": "code",
   "execution_count": 152,
   "id": "20a7aa33-d071-48fb-8057-f4bd1b31fdd4",
   "metadata": {},
   "outputs": [
    {
     "data": {
      "text/html": [
       "<div>\n",
       "<style scoped>\n",
       "    .dataframe tbody tr th:only-of-type {\n",
       "        vertical-align: middle;\n",
       "    }\n",
       "\n",
       "    .dataframe tbody tr th {\n",
       "        vertical-align: top;\n",
       "    }\n",
       "\n",
       "    .dataframe thead th {\n",
       "        text-align: right;\n",
       "    }\n",
       "</style>\n",
       "<table border=\"1\" class=\"dataframe\">\n",
       "  <thead>\n",
       "    <tr style=\"text-align: right;\">\n",
       "      <th></th>\n",
       "      <th>Model</th>\n",
       "      <th>MAE</th>\n",
       "      <th>MSE</th>\n",
       "      <th>R2</th>\n",
       "    </tr>\n",
       "  </thead>\n",
       "  <tbody>\n",
       "    <tr>\n",
       "      <th>0</th>\n",
       "      <td>Linear Regression Exog</td>\n",
       "      <td>1.615322</td>\n",
       "      <td>5.338832</td>\n",
       "      <td>0.738505</td>\n",
       "    </tr>\n",
       "    <tr>\n",
       "      <th>1</th>\n",
       "      <td>Ridge Exog</td>\n",
       "      <td>1.670257</td>\n",
       "      <td>5.586968</td>\n",
       "      <td>0.726351</td>\n",
       "    </tr>\n",
       "    <tr>\n",
       "      <th>2</th>\n",
       "      <td>Passive Agressive Exog</td>\n",
       "      <td>1.482818</td>\n",
       "      <td>4.820144</td>\n",
       "      <td>0.763910</td>\n",
       "    </tr>\n",
       "  </tbody>\n",
       "</table>\n",
       "</div>"
      ],
      "text/plain": [
       "                    Model       MAE       MSE        R2\n",
       "0  Linear Regression Exog  1.615322  5.338832  0.738505\n",
       "1              Ridge Exog  1.670257  5.586968  0.726351\n",
       "2  Passive Agressive Exog  1.482818  4.820144  0.763910"
      ]
     },
     "execution_count": 152,
     "metadata": {},
     "output_type": "execute_result"
    }
   ],
   "source": [
    "metrics2 = {'Model': ['Linear Regression Exog', 'Ridge Exog', 'Passive Agressive Exog'],\n",
    "           'MAE': [error_mae_lrx, error_mae_rbx, error_mae_PARx],\n",
    "           'MSE': [error_mse_lrx, error_mse_rbx, error_mse_PARx],\n",
    "        'R2': [score_lrx, score_rbx, score_PARx]}\n",
    "\n",
    "resultats2 = pd.DataFrame(data=metrics2)\n",
    "\n",
    "resultats2"
   ]
  },
  {
   "cell_type": "markdown",
   "id": "2d9e29d8-3f0f-491b-a074-4958d7c348cd",
   "metadata": {},
   "source": [
    "Com podem veure el fet d'afegir una variable exogena amb tan poca correlació com és en aquest cas la precipitació, no ens ha ajudat a millorar gairebé cap metrica , a excepció del mean absolute error del linear regression que l'ha disminuit lleugerament, mentres que en el cas del model ridge l'ha empitjorat. La resta de les metriques son identiques."
   ]
  },
  {
   "cell_type": "markdown",
   "id": "6396549b-2924-43d8-aaaf-ea409abe2749",
   "metadata": {},
   "source": [
    "Continua al notebook ARIMA-->"
   ]
  }
 ],
 "metadata": {
  "kernelspec": {
   "display_name": "Python 3 (ipykernel)",
   "language": "python",
   "name": "python3"
  },
  "language_info": {
   "codemirror_mode": {
    "name": "ipython",
    "version": 3
   },
   "file_extension": ".py",
   "mimetype": "text/x-python",
   "name": "python",
   "nbconvert_exporter": "python",
   "pygments_lexer": "ipython3",
   "version": "3.9.13"
  }
 },
 "nbformat": 4,
 "nbformat_minor": 5
}
